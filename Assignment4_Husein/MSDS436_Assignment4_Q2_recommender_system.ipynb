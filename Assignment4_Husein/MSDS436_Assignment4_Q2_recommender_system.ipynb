{
 "cells": [
  {
   "cell_type": "code",
   "execution_count": 6,
   "metadata": {},
   "outputs": [],
   "source": [
    "from pyspark.sql import SparkSession\n",
    "from pyspark.sql import functions as f"
   ]
  },
  {
   "cell_type": "code",
   "execution_count": 7,
   "metadata": {},
   "outputs": [
    {
     "name": "stderr",
     "output_type": "stream",
     "text": [
      "C:\\Users\\hag8665\\Anaconda3\\envs\\new_environment\\lib\\site-packages\\pyspark\\context.py:238: FutureWarning: Python 3.6 support is deprecated in Spark 3.2.\n",
      "  FutureWarning\n"
     ]
    }
   ],
   "source": [
    "spark = SparkSession.builder.appName(\"Recommender_system\").getOrCreate()"
   ]
  },
  {
   "cell_type": "markdown",
   "metadata": {},
   "source": [
    "# use ratings dataset to create a Recommeder system\n",
    "\n"
   ]
  },
  {
   "cell_type": "markdown",
   "metadata": {},
   "source": [
    "download_path = http://files.grouplens.org/datasets/movielens/ml-latest-small.zip\n",
    "\n",
    "filename = ml-latest-small.zip\n",
    "This dataset (ml-latest-small) describes 5-star rating and free-text tagging activity from [MovieLens](http://movielens.org), a movie recommendation service. It contains 100836 ratings and 3683 tag applications across 9742 movies. These data were created by 610 users between March 29, 1996 and September 24, 2018. This dataset was generated on September 26, 2018.\n"
   ]
  },
  {
   "cell_type": "code",
   "execution_count": 54,
   "metadata": {},
   "outputs": [],
   "source": [
    "#download data and save it to file in folder"
   ]
  },
  {
   "cell_type": "code",
   "execution_count": 45,
   "metadata": {},
   "outputs": [],
   "source": [
    "import requests"
   ]
  },
  {
   "cell_type": "code",
   "execution_count": 47,
   "metadata": {},
   "outputs": [],
   "source": [
    "response = requests.get('http://files.grouplens.org/datasets/movielens/ml-latest-small.zip')"
   ]
  },
  {
   "cell_type": "code",
   "execution_count": 49,
   "metadata": {},
   "outputs": [],
   "source": [
    "with open('data/ml-latest-small.zip', 'wb') as handle:\n",
    "    for block in response.iter_content(1024):\n",
    "        handle.write(block)"
   ]
  },
  {
   "cell_type": "code",
   "execution_count": 50,
   "metadata": {},
   "outputs": [],
   "source": [
    "import zipfile\n",
    "with zipfile.ZipFile('data/ml-latest-small.zip', 'r') as zip_ref:\n",
    "    zip_ref.extractall(\"data/\")"
   ]
  },
  {
   "cell_type": "code",
   "execution_count": 51,
   "metadata": {},
   "outputs": [],
   "source": [
    "ratings = spark.read.csv(path= \"data/ml-latest-small/ratings.csv\", sep=\",\", header=True, quote ='\"', schema =\"userId INT, movieId INT, rating DOUBLE, timestamp INT\").cache()"
   ]
  },
  {
   "cell_type": "code",
   "execution_count": 52,
   "metadata": {},
   "outputs": [
    {
     "name": "stdout",
     "output_type": "stream",
     "text": [
      "+------+-------+------+---------+\n",
      "|userId|movieId|rating|timestamp|\n",
      "+------+-------+------+---------+\n",
      "|     1|      1|   4.0|964982703|\n",
      "|     1|      3|   4.0|964981247|\n",
      "+------+-------+------+---------+\n",
      "only showing top 2 rows\n",
      "\n"
     ]
    }
   ],
   "source": [
    "ratings.show(2)"
   ]
  },
  {
   "cell_type": "code",
   "execution_count": 10,
   "metadata": {},
   "outputs": [],
   "source": [
    "ratings = ratings.withColumn(\"timestamp\", f.to_timestamp(f.from_unixtime(\"timestamp\"))).cache()"
   ]
  },
  {
   "cell_type": "code",
   "execution_count": 11,
   "metadata": {},
   "outputs": [
    {
     "name": "stdout",
     "output_type": "stream",
     "text": [
      "+------+-------+------+-------------------+\n",
      "|userId|movieId|rating|          timestamp|\n",
      "+------+-------+------+-------------------+\n",
      "|     1|      1|   4.0|2000-07-30 13:45:03|\n",
      "|     1|      3|   4.0|2000-07-30 13:20:47|\n",
      "|     1|      6|   4.0|2000-07-30 13:37:04|\n",
      "|     1|     47|   5.0|2000-07-30 14:03:35|\n",
      "|     1|     50|   5.0|2000-07-30 13:48:51|\n",
      "|     1|     70|   3.0|2000-07-30 13:40:00|\n",
      "|     1|    101|   5.0|2000-07-30 13:14:28|\n",
      "|     1|    110|   4.0|2000-07-30 13:36:16|\n",
      "|     1|    151|   5.0|2000-07-30 14:07:21|\n",
      "|     1|    157|   5.0|2000-07-30 14:08:20|\n",
      "+------+-------+------+-------------------+\n",
      "only showing top 10 rows\n",
      "\n"
     ]
    }
   ],
   "source": [
    "ratings.show(10)"
   ]
  },
  {
   "cell_type": "code",
   "execution_count": 12,
   "metadata": {},
   "outputs": [
    {
     "name": "stdout",
     "output_type": "stream",
     "text": [
      "root\n",
      " |-- userId: integer (nullable = true)\n",
      " |-- movieId: integer (nullable = true)\n",
      " |-- rating: double (nullable = true)\n",
      " |-- timestamp: timestamp (nullable = true)\n",
      "\n"
     ]
    }
   ],
   "source": [
    "ratings.printSchema()"
   ]
  },
  {
   "cell_type": "code",
   "execution_count": 13,
   "metadata": {},
   "outputs": [
    {
     "name": "stdout",
     "output_type": "stream",
     "text": [
      "+-------+------------------+----------------+------------------+\n",
      "|summary|            userId|         movieId|            rating|\n",
      "+-------+------------------+----------------+------------------+\n",
      "|  count|            100836|          100836|            100836|\n",
      "|   mean|326.12756356856676|19435.2957177992| 3.501556983616962|\n",
      "| stddev| 182.6184914635004|35530.9871987003|1.0425292390606342|\n",
      "|    min|                 1|               1|               0.5|\n",
      "|    25%|               177|            1199|               3.0|\n",
      "|    50%|               325|            2991|               3.5|\n",
      "|    75%|               477|            8092|               4.0|\n",
      "|    max|               610|          193609|               5.0|\n",
      "+-------+------------------+----------------+------------------+\n",
      "\n"
     ]
    }
   ],
   "source": [
    "ratings.summary().show()"
   ]
  },
  {
   "cell_type": "code",
   "execution_count": 14,
   "metadata": {},
   "outputs": [],
   "source": [
    "ratings = ratings.drop(\"timestamp\")"
   ]
  },
  {
   "cell_type": "markdown",
   "metadata": {},
   "source": [
    "# pyspark  matrix factorisation technique — Alternating Least Squares (ALS) to create a reccomender system"
   ]
  },
  {
   "cell_type": "code",
   "execution_count": 15,
   "metadata": {},
   "outputs": [],
   "source": [
    "from pyspark.ml.recommendation import ALS"
   ]
  },
  {
   "cell_type": "code",
   "execution_count": 16,
   "metadata": {},
   "outputs": [],
   "source": [
    "from pyspark.ml.evaluation import RegressionEvaluator"
   ]
  },
  {
   "cell_type": "markdown",
   "metadata": {},
   "source": [
    "https://spark.apache.org/docs/latest/api/python/reference/api/pyspark.ml.recommendation.ALS.html#pyspark.ml.recommendation.ALS"
   ]
  },
  {
   "cell_type": "markdown",
   "metadata": {},
   "source": [
    "class pyspark.ml.recommendation.ALS(*, rank=10, maxIter=10, regParam=0.1, numUserBlocks=10, numItemBlocks=10, implicitPrefs=False, alpha=1.0, userCol='user', itemCol='item', seed=None, ratingCol='rating', nonnegative=False, checkpointInterval=10, intermediateStorageLevel='MEMORY_AND_DISK', finalStorageLevel='MEMORY_AND_DISK', coldStartStrategy='nan', blockSize=4096)\n",
    "\n"
   ]
  },
  {
   "cell_type": "code",
   "execution_count": 17,
   "metadata": {},
   "outputs": [],
   "source": [
    "als =  ALS(\n",
    "     userCol='userId', \n",
    "        itemCol='movieId', \n",
    "        \n",
    "        ratingCol='rating'\n",
    "        )\n",
    "\n",
    "\n",
    "\n",
    "(training_data, validation_data) = ratings.randomSplit([8.0, 2.0])"
   ]
  },
  {
   "cell_type": "code",
   "execution_count": null,
   "metadata": {},
   "outputs": [],
   "source": []
  },
  {
   "cell_type": "code",
   "execution_count": 18,
   "metadata": {},
   "outputs": [],
   "source": [
    "evaluator = RegressionEvaluator(\n",
    "                                metricName ='rmse', labelCol =\"rating\", predictionCol='prediction'\n",
    "                                )"
   ]
  },
  {
   "cell_type": "code",
   "execution_count": 19,
   "metadata": {},
   "outputs": [],
   "source": [
    "model = als.fit(training_data)"
   ]
  },
  {
   "cell_type": "code",
   "execution_count": 20,
   "metadata": {},
   "outputs": [
    {
     "data": {
      "text/plain": [
       "pyspark.ml.recommendation.ALSModel"
      ]
     },
     "execution_count": 20,
     "metadata": {},
     "output_type": "execute_result"
    }
   ],
   "source": [
    "type(model)"
   ]
  },
  {
   "cell_type": "code",
   "execution_count": 21,
   "metadata": {},
   "outputs": [
    {
     "data": {
      "text/plain": [
       "pyspark.ml.evaluation.RegressionEvaluator"
      ]
     },
     "execution_count": 21,
     "metadata": {},
     "output_type": "execute_result"
    }
   ],
   "source": [
    "type(evaluator)"
   ]
  },
  {
   "cell_type": "code",
   "execution_count": 22,
   "metadata": {},
   "outputs": [],
   "source": [
    "predictons = model.transform(validation_data)"
   ]
  },
  {
   "cell_type": "code",
   "execution_count": 23,
   "metadata": {},
   "outputs": [
    {
     "name": "stdout",
     "output_type": "stream",
     "text": [
      "+------+-------+------+----------+\n",
      "|userId|movieId|rating|prediction|\n",
      "+------+-------+------+----------+\n",
      "|     1|    673|   3.0|  2.608757|\n",
      "|     1|    333|   5.0| 4.0548954|\n",
      "|     1|    157|   5.0| 3.0268917|\n",
      "|     1|    367|   4.0| 3.8231585|\n",
      "|     1|      1|   4.0|  4.594063|\n",
      "|     1|    919|   5.0| 4.0097704|\n",
      "|     1|    553|   5.0|  4.488731|\n",
      "|     1|    780|   3.0|  3.885131|\n",
      "|     1|    356|   4.0| 4.6681347|\n",
      "|     1|     70|   3.0| 3.9938636|\n",
      "+------+-------+------+----------+\n",
      "only showing top 10 rows\n",
      "\n"
     ]
    }
   ],
   "source": [
    "predictons.show(10)"
   ]
  },
  {
   "cell_type": "code",
   "execution_count": 24,
   "metadata": {},
   "outputs": [],
   "source": [
    "rmse = evaluator.evaluate((predictons).dropna())"
   ]
  },
  {
   "cell_type": "code",
   "execution_count": 25,
   "metadata": {},
   "outputs": [],
   "source": [
    "# RMSE is high but we can fine tune the model parameters"
   ]
  },
  {
   "cell_type": "code",
   "execution_count": 26,
   "metadata": {},
   "outputs": [
    {
     "name": "stdout",
     "output_type": "stream",
     "text": [
      "0.8789006339623343\n"
     ]
    }
   ],
   "source": [
    "print(rmse)"
   ]
  },
  {
   "cell_type": "markdown",
   "metadata": {},
   "source": [
    "# user CrossValidator, ParamGridBuilder to fine tune hyper parameters of the model"
   ]
  },
  {
   "cell_type": "code",
   "execution_count": 27,
   "metadata": {},
   "outputs": [],
   "source": [
    "from pyspark.ml.tuning import CrossValidator, ParamGridBuilder"
   ]
  },
  {
   "cell_type": "code",
   "execution_count": 28,
   "metadata": {},
   "outputs": [],
   "source": [
    "parameter_grid = (\n",
    "            ParamGridBuilder()\n",
    "    .addGrid(als.rank, [1, 5, 10])\n",
    "    .addGrid(als.maxIter, [20, 10])\n",
    "    .addGrid(als.regParam,[0.5,0.1])\n",
    "    .build()\n",
    ")"
   ]
  },
  {
   "cell_type": "code",
   "execution_count": 29,
   "metadata": {},
   "outputs": [
    {
     "data": {
      "text/plain": [
       "list"
      ]
     },
     "execution_count": 29,
     "metadata": {},
     "output_type": "execute_result"
    }
   ],
   "source": [
    "type(parameter_grid)"
   ]
  },
  {
   "cell_type": "code",
   "execution_count": 30,
   "metadata": {},
   "outputs": [
    {
     "name": "stdout",
     "output_type": "stream",
     "text": [
      "[{Param(parent='ALS_84b5c621ac3e', name='maxIter', doc='max number of iterations (>= 0).'): 20,\n",
      "  Param(parent='ALS_84b5c621ac3e', name='rank', doc='rank of the factorization'): 1,\n",
      "  Param(parent='ALS_84b5c621ac3e', name='regParam', doc='regularization parameter (>= 0).'): 0.5},\n",
      " {Param(parent='ALS_84b5c621ac3e', name='maxIter', doc='max number of iterations (>= 0).'): 20,\n",
      "  Param(parent='ALS_84b5c621ac3e', name='rank', doc='rank of the factorization'): 1,\n",
      "  Param(parent='ALS_84b5c621ac3e', name='regParam', doc='regularization parameter (>= 0).'): 0.1},\n",
      " {Param(parent='ALS_84b5c621ac3e', name='maxIter', doc='max number of iterations (>= 0).'): 10,\n",
      "  Param(parent='ALS_84b5c621ac3e', name='rank', doc='rank of the factorization'): 1,\n",
      "  Param(parent='ALS_84b5c621ac3e', name='regParam', doc='regularization parameter (>= 0).'): 0.5},\n",
      " {Param(parent='ALS_84b5c621ac3e', name='maxIter', doc='max number of iterations (>= 0).'): 10,\n",
      "  Param(parent='ALS_84b5c621ac3e', name='rank', doc='rank of the factorization'): 1,\n",
      "  Param(parent='ALS_84b5c621ac3e', name='regParam', doc='regularization parameter (>= 0).'): 0.1},\n",
      " {Param(parent='ALS_84b5c621ac3e', name='maxIter', doc='max number of iterations (>= 0).'): 20,\n",
      "  Param(parent='ALS_84b5c621ac3e', name='rank', doc='rank of the factorization'): 5,\n",
      "  Param(parent='ALS_84b5c621ac3e', name='regParam', doc='regularization parameter (>= 0).'): 0.5},\n",
      " {Param(parent='ALS_84b5c621ac3e', name='maxIter', doc='max number of iterations (>= 0).'): 20,\n",
      "  Param(parent='ALS_84b5c621ac3e', name='rank', doc='rank of the factorization'): 5,\n",
      "  Param(parent='ALS_84b5c621ac3e', name='regParam', doc='regularization parameter (>= 0).'): 0.1},\n",
      " {Param(parent='ALS_84b5c621ac3e', name='maxIter', doc='max number of iterations (>= 0).'): 10,\n",
      "  Param(parent='ALS_84b5c621ac3e', name='rank', doc='rank of the factorization'): 5,\n",
      "  Param(parent='ALS_84b5c621ac3e', name='regParam', doc='regularization parameter (>= 0).'): 0.5},\n",
      " {Param(parent='ALS_84b5c621ac3e', name='maxIter', doc='max number of iterations (>= 0).'): 10,\n",
      "  Param(parent='ALS_84b5c621ac3e', name='rank', doc='rank of the factorization'): 5,\n",
      "  Param(parent='ALS_84b5c621ac3e', name='regParam', doc='regularization parameter (>= 0).'): 0.1},\n",
      " {Param(parent='ALS_84b5c621ac3e', name='maxIter', doc='max number of iterations (>= 0).'): 20,\n",
      "  Param(parent='ALS_84b5c621ac3e', name='rank', doc='rank of the factorization'): 10,\n",
      "  Param(parent='ALS_84b5c621ac3e', name='regParam', doc='regularization parameter (>= 0).'): 0.5},\n",
      " {Param(parent='ALS_84b5c621ac3e', name='maxIter', doc='max number of iterations (>= 0).'): 20,\n",
      "  Param(parent='ALS_84b5c621ac3e', name='rank', doc='rank of the factorization'): 10,\n",
      "  Param(parent='ALS_84b5c621ac3e', name='regParam', doc='regularization parameter (>= 0).'): 0.1},\n",
      " {Param(parent='ALS_84b5c621ac3e', name='maxIter', doc='max number of iterations (>= 0).'): 10,\n",
      "  Param(parent='ALS_84b5c621ac3e', name='rank', doc='rank of the factorization'): 10,\n",
      "  Param(parent='ALS_84b5c621ac3e', name='regParam', doc='regularization parameter (>= 0).'): 0.5},\n",
      " {Param(parent='ALS_84b5c621ac3e', name='maxIter', doc='max number of iterations (>= 0).'): 10,\n",
      "  Param(parent='ALS_84b5c621ac3e', name='rank', doc='rank of the factorization'): 10,\n",
      "  Param(parent='ALS_84b5c621ac3e', name='regParam', doc='regularization parameter (>= 0).'): 0.1}]\n"
     ]
    }
   ],
   "source": [
    "from pprint import pprint\n",
    "\n",
    "pprint(parameter_grid)"
   ]
  },
  {
   "cell_type": "code",
   "execution_count": 31,
   "metadata": {},
   "outputs": [],
   "source": [
    "crossvalidator = CrossValidator(\n",
    "    estimator = als\n",
    "    ,estimatorParamMaps= parameter_grid\n",
    "    ,evaluator = evaluator \n",
    "    ,numFolds = 3\n",
    ")"
   ]
  },
  {
   "cell_type": "code",
   "execution_count": 32,
   "metadata": {},
   "outputs": [],
   "source": [
    "crossval_model= crossvalidator.fit(training_data)"
   ]
  },
  {
   "cell_type": "code",
   "execution_count": 33,
   "metadata": {},
   "outputs": [],
   "source": [
    "predictions = crossval_model.transform(validation_data)"
   ]
  },
  {
   "cell_type": "code",
   "execution_count": 34,
   "metadata": {},
   "outputs": [
    {
     "name": "stdout",
     "output_type": "stream",
     "text": [
      "0.8789006339623343\n"
     ]
    }
   ],
   "source": [
    "rmse = evaluator.evaluate((predictons).dropna())\n",
    "print(rmse)"
   ]
  },
  {
   "cell_type": "code",
   "execution_count": 35,
   "metadata": {},
   "outputs": [],
   "source": [
    "model = crossval_model.bestModel"
   ]
  },
  {
   "cell_type": "markdown",
   "metadata": {},
   "source": [
    "# load movies dataset to get predictions for user for unseen movie\n"
   ]
  },
  {
   "cell_type": "code",
   "execution_count": 53,
   "metadata": {},
   "outputs": [],
   "source": [
    "movies = spark.read.csv(path = 'data/ml-latest-small/movies.csv', sep = ',', header = True, quote='\"', schema= \"movieId INT, tittle STRING, genres STRING\")"
   ]
  },
  {
   "cell_type": "code",
   "execution_count": 37,
   "metadata": {},
   "outputs": [
    {
     "name": "stdout",
     "output_type": "stream",
     "text": [
      "+-------+--------------------+--------------------+\n",
      "|movieId|              tittle|              genres|\n",
      "+-------+--------------------+--------------------+\n",
      "|      1|    Toy Story (1995)|Adventure|Animati...|\n",
      "|      2|      Jumanji (1995)|Adventure|Childre...|\n",
      "|      3|Grumpier Old Men ...|      Comedy|Romance|\n",
      "|      4|Waiting to Exhale...|Comedy|Drama|Romance|\n",
      "+-------+--------------------+--------------------+\n",
      "only showing top 4 rows\n",
      "\n"
     ]
    }
   ],
   "source": [
    "movies.show(4)"
   ]
  },
  {
   "cell_type": "markdown",
   "metadata": {},
   "source": [
    "# predict top 5 movie recomendation for user with User_id 5"
   ]
  },
  {
   "cell_type": "code",
   "execution_count": 38,
   "metadata": {},
   "outputs": [],
   "source": [
    "# find the movies to be rated\n",
    "USER_ID = 150\n",
    "\n",
    "movies_to_be_rated = (\n",
    "                       ratings\n",
    "                    #filter movies not rated by user\n",
    "                .filter(f'userId != {USER_ID}')\n",
    "                .select('movieId').distinct()\n",
    "                #add the userid to the data\n",
    "                .withColumn(\"userId\", f.lit(USER_ID))\n",
    "\n",
    "                )"
   ]
  },
  {
   "cell_type": "code",
   "execution_count": 39,
   "metadata": {},
   "outputs": [
    {
     "name": "stdout",
     "output_type": "stream",
     "text": [
      "+-------+------+\n",
      "|movieId|userId|\n",
      "+-------+------+\n",
      "|   1580|   150|\n",
      "|   2366|   150|\n",
      "|   3175|   150|\n",
      "|   1088|   150|\n",
      "|  32460|   150|\n",
      "|  44022|   150|\n",
      "|  96488|   150|\n",
      "|   1238|   150|\n",
      "|   1342|   150|\n",
      "|   1591|   150|\n",
      "|   1645|   150|\n",
      "|   4519|   150|\n",
      "|   2142|   150|\n",
      "|    471|   150|\n",
      "|   3997|   150|\n",
      "|    833|   150|\n",
      "|   3918|   150|\n",
      "|   7982|   150|\n",
      "|   1959|   150|\n",
      "|  68135|   150|\n",
      "+-------+------+\n",
      "only showing top 20 rows\n",
      "\n"
     ]
    }
   ],
   "source": [
    "movies_to_be_rated.show()"
   ]
  },
  {
   "cell_type": "code",
   "execution_count": 40,
   "metadata": {},
   "outputs": [],
   "source": [
    "# predict the movies"
   ]
  },
  {
   "cell_type": "code",
   "execution_count": 41,
   "metadata": {},
   "outputs": [],
   "source": [
    "user_movies_predicitons = model.transform(movies_to_be_rated)"
   ]
  },
  {
   "cell_type": "code",
   "execution_count": 42,
   "metadata": {},
   "outputs": [
    {
     "name": "stdout",
     "output_type": "stream",
     "text": [
      "+-------+------+----------+\n",
      "|movieId|userId|prediction|\n",
      "+-------+------+----------+\n",
      "|   1580|   150| 3.0021908|\n",
      "|   2366|   150| 3.1366751|\n",
      "|   3175|   150| 3.1219451|\n",
      "|   1088|   150| 3.0233843|\n",
      "|  32460|   150| 3.5273237|\n",
      "|  44022|   150| 2.7526877|\n",
      "|  96488|   150| 3.6443875|\n",
      "|   1238|   150| 3.4903786|\n",
      "|   1342|   150| 2.3784082|\n",
      "|   1591|   150|  2.274304|\n",
      "|   1645|   150| 2.8916616|\n",
      "|   4519|   150| 2.8688335|\n",
      "|   2142|   150| 2.5902288|\n",
      "|    471|   150| 3.1445718|\n",
      "|   3997|   150| 1.6652061|\n",
      "|    833|   150| 1.5043699|\n",
      "|   3918|   150| 2.6934934|\n",
      "|   7982|   150| 3.6648328|\n",
      "|   1959|   150|    3.0877|\n",
      "|  68135|   150| 3.1314673|\n",
      "+-------+------+----------+\n",
      "only showing top 20 rows\n",
      "\n"
     ]
    }
   ],
   "source": [
    "user_movies_predicitons.show()"
   ]
  },
  {
   "cell_type": "markdown",
   "metadata": {},
   "source": [
    "# top 5 predcition"
   ]
  },
  {
   "cell_type": "code",
   "execution_count": 43,
   "metadata": {},
   "outputs": [],
   "source": [
    "recomendation_for_users = (\n",
    "      user_movies_predicitons\n",
    "        .dropna()\n",
    "        .orderBy('prediction', ascending = False)\n",
    "        .limit(5)\n",
    "        .join(movies, \"movieId\", how = 'inner')\n",
    "        .select(\"userId\", \"movieId\", \"tittle\",  f.col(\"prediction\").alias(\"rec_ratings\"))\n",
    ")"
   ]
  },
  {
   "cell_type": "code",
   "execution_count": 44,
   "metadata": {},
   "outputs": [
    {
     "name": "stdout",
     "output_type": "stream",
     "text": [
      "+------+-------+-----------------------------------------+-----------+\n",
      "|userId|movieId|tittle                                   |rec_ratings|\n",
      "+------+-------+-----------------------------------------+-----------+\n",
      "|150   |5746   |Galaxy of Terror (Quest) (1981)          |5.4795556  |\n",
      "|150   |6835   |Alien Contamination (1980)               |5.4795556  |\n",
      "|150   |99764  |It's Such a Beautiful Day (2012)         |5.442037   |\n",
      "|150   |117192 |Doctor Who: The Time of the Doctor (2013)|5.558827   |\n",
      "|150   |136850 |Villain (1971)                           |5.433422   |\n",
      "+------+-------+-----------------------------------------+-----------+\n",
      "\n"
     ]
    }
   ],
   "source": [
    "recomendation_for_users.show(5, truncate=False)"
   ]
  },
  {
   "cell_type": "code",
   "execution_count": null,
   "metadata": {},
   "outputs": [],
   "source": []
  }
 ],
 "metadata": {
  "kernelspec": {
   "display_name": "Python 3",
   "language": "python",
   "name": "python3"
  },
  "language_info": {
   "codemirror_mode": {
    "name": "ipython",
    "version": 3
   },
   "file_extension": ".py",
   "mimetype": "text/x-python",
   "name": "python",
   "nbconvert_exporter": "python",
   "pygments_lexer": "ipython3",
   "version": "3.6.13"
  }
 },
 "nbformat": 4,
 "nbformat_minor": 2
}
